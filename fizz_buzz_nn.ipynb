{
 "cells": [
  {
   "cell_type": "markdown",
   "metadata": {},
   "source": [
    "## FizzBuzz with Neural Networks - [source](https://joelgrus.com/2016/05/23/fizz-buzz-in-tensorflow/)\n",
    "### [Glitched Failure Video](https://youtu.be/_s8nPRddxp8)\n",
    "\n",
    "The \"FizzBuzz\" problem is a classic coding challenge. Here's a standard approach:"
   ]
  },
  {
   "cell_type": "code",
   "execution_count": 13,
   "metadata": {},
   "outputs": [],
   "source": [
    "def fizzbuzz(n):\n",
    "    FIZZ = \"Fizz\"\n",
    "    BUZZ = \"Buzz\"\n",
    "    FIZZBUZZ = FIZZ + BUZZ\n",
    "    \n",
    "    is_div_by_3 = n % 3 == 0\n",
    "    is_div_by_5 = n % 5 == 0\n",
    "    \n",
    "    if is_div_by_3 & is_div_by_5:\n",
    "        return FIZZBUZZ\n",
    "    if is_div_by_3:\n",
    "        return FIZZ\n",
    "    if is_div_by_5:\n",
    "        return BUZZ\n",
    "    return n"
   ]
  },
  {
   "cell_type": "code",
   "execution_count": 14,
   "metadata": {},
   "outputs": [
    {
     "name": "stdout",
     "output_type": "stream",
     "text": [
      "1\n",
      "2\n",
      "Fizz\n",
      "4\n",
      "Buzz\n",
      "Fizz\n",
      "7\n",
      "8\n",
      "Fizz\n",
      "Buzz\n",
      "11\n",
      "Fizz\n",
      "13\n",
      "14\n",
      "FizzBuzz\n"
     ]
    }
   ],
   "source": [
    "## TESTING ##\n",
    "for i in range(1,16):\n",
    "    print(fizzbuzz(i))"
   ]
  },
  {
   "cell_type": "markdown",
   "metadata": {},
   "source": [
    "That's very...simple.\n",
    "\n",
    "__Let's kick things up a notch by training a neural network to LEARN FizzBuzz!__\n",
    "\n",
    "Here's a random unrelated image.\n",
    "<img src=\"https://pbs.twimg.com/media/D3EwYFrX0AEnCJP.jpg\">\n",
    "\n",
    "The aim here is to build an overly complicated black box function (neural network), that works much like our original `fizzbuzz` function; __it takes a number input and returns the appropriate value: the input number, \"Fizz\", \"Buzz\", or \"FizzBuzz\".__"
   ]
  },
  {
   "cell_type": "markdown",
   "metadata": {},
   "source": [
    "## Imports"
   ]
  },
  {
   "cell_type": "code",
   "execution_count": 15,
   "metadata": {},
   "outputs": [],
   "source": [
    "import numpy as np\n",
    "import pandas as pd\n",
    "import matplotlib.pyplot as plt\n",
    "\n",
    "from sklearn.metrics import accuracy_score\n",
    "\n",
    "from tensorflow.keras.utils import to_categorical\n",
    "from tensorflow.keras.models import Sequential\n",
    "from tensorflow.keras.layers import Dense, Dropout\n",
    "from tensorflow.keras.callbacks import EarlyStopping"
   ]
  },
  {
   "cell_type": "markdown",
   "metadata": {},
   "source": [
    "## Generating \"data\"\n",
    "Neural networks need a LOT of data, so let's generate 1 million data points!"
   ]
  },
  {
   "cell_type": "code",
   "execution_count": 16,
   "metadata": {},
   "outputs": [],
   "source": [
    "df = pd.DataFrame()\n",
    "n = 1_000_000\n",
    "\n",
    "# generating data\n",
    "df[\"numbers\"] = range(1, n + 1)\n",
    "df[\"fizzbuzz_numbers\"] = df[\"numbers\"].map(fizzbuzz) # reusing fizzbuzz function to get correct answer"
   ]
  },
  {
   "cell_type": "code",
   "execution_count": 17,
   "metadata": {},
   "outputs": [
    {
     "data": {
      "text/html": [
       "<div>\n",
       "<style scoped>\n",
       "    .dataframe tbody tr th:only-of-type {\n",
       "        vertical-align: middle;\n",
       "    }\n",
       "\n",
       "    .dataframe tbody tr th {\n",
       "        vertical-align: top;\n",
       "    }\n",
       "\n",
       "    .dataframe thead th {\n",
       "        text-align: right;\n",
       "    }\n",
       "</style>\n",
       "<table border=\"1\" class=\"dataframe\">\n",
       "  <thead>\n",
       "    <tr style=\"text-align: right;\">\n",
       "      <th></th>\n",
       "      <th>numbers</th>\n",
       "      <th>fizzbuzz_numbers</th>\n",
       "    </tr>\n",
       "  </thead>\n",
       "  <tbody>\n",
       "    <tr>\n",
       "      <th>0</th>\n",
       "      <td>1</td>\n",
       "      <td>1</td>\n",
       "    </tr>\n",
       "    <tr>\n",
       "      <th>1</th>\n",
       "      <td>2</td>\n",
       "      <td>2</td>\n",
       "    </tr>\n",
       "    <tr>\n",
       "      <th>2</th>\n",
       "      <td>3</td>\n",
       "      <td>Fizz</td>\n",
       "    </tr>\n",
       "    <tr>\n",
       "      <th>3</th>\n",
       "      <td>4</td>\n",
       "      <td>4</td>\n",
       "    </tr>\n",
       "    <tr>\n",
       "      <th>4</th>\n",
       "      <td>5</td>\n",
       "      <td>Buzz</td>\n",
       "    </tr>\n",
       "    <tr>\n",
       "      <th>5</th>\n",
       "      <td>6</td>\n",
       "      <td>Fizz</td>\n",
       "    </tr>\n",
       "    <tr>\n",
       "      <th>6</th>\n",
       "      <td>7</td>\n",
       "      <td>7</td>\n",
       "    </tr>\n",
       "    <tr>\n",
       "      <th>7</th>\n",
       "      <td>8</td>\n",
       "      <td>8</td>\n",
       "    </tr>\n",
       "    <tr>\n",
       "      <th>8</th>\n",
       "      <td>9</td>\n",
       "      <td>Fizz</td>\n",
       "    </tr>\n",
       "    <tr>\n",
       "      <th>9</th>\n",
       "      <td>10</td>\n",
       "      <td>Buzz</td>\n",
       "    </tr>\n",
       "  </tbody>\n",
       "</table>\n",
       "</div>"
      ],
      "text/plain": [
       "   numbers fizzbuzz_numbers\n",
       "0        1                1\n",
       "1        2                2\n",
       "2        3             Fizz\n",
       "3        4                4\n",
       "4        5             Buzz\n",
       "5        6             Fizz\n",
       "6        7                7\n",
       "7        8                8\n",
       "8        9             Fizz\n",
       "9       10             Buzz"
      ]
     },
     "execution_count": 17,
     "metadata": {},
     "output_type": "execute_result"
    }
   ],
   "source": [
    "df.head(10)"
   ]
  },
  {
   "cell_type": "markdown",
   "metadata": {},
   "source": [
    "Our neural networks \"answer\" needs to be either a _continuous number_ or a _discrete category._ Right now we have a mix of strings and numbers, which is no good! \n",
    "\n",
    "Let's focus on a categorical output, so we'll want to __map our \"answer\" to a proper categorical target:__\n",
    "```\n",
    "0 will represent the answer is the original number\n",
    "1 will represent \"Fizz\"\n",
    "2 will represent \"Buzz\"\n",
    "3 will represent \"FizzBuzz\"\n",
    "```"
   ]
  },
  {
   "cell_type": "code",
   "execution_count": 18,
   "metadata": {},
   "outputs": [],
   "source": [
    "def convert_fizzbuzz(val):\n",
    "    if type(val) == int:\n",
    "        return 0\n",
    "    return [\"Fizz\", \"Buzz\", \"FizzBuzz\"].index(val) + 1"
   ]
  },
  {
   "cell_type": "code",
   "execution_count": 19,
   "metadata": {},
   "outputs": [],
   "source": [
    "df[\"target\"] = df[\"fizzbuzz_numbers\"].map(convert_fizzbuzz)"
   ]
  },
  {
   "cell_type": "code",
   "execution_count": 20,
   "metadata": {},
   "outputs": [
    {
     "data": {
      "text/html": [
       "<div>\n",
       "<style scoped>\n",
       "    .dataframe tbody tr th:only-of-type {\n",
       "        vertical-align: middle;\n",
       "    }\n",
       "\n",
       "    .dataframe tbody tr th {\n",
       "        vertical-align: top;\n",
       "    }\n",
       "\n",
       "    .dataframe thead th {\n",
       "        text-align: right;\n",
       "    }\n",
       "</style>\n",
       "<table border=\"1\" class=\"dataframe\">\n",
       "  <thead>\n",
       "    <tr style=\"text-align: right;\">\n",
       "      <th></th>\n",
       "      <th>numbers</th>\n",
       "      <th>fizzbuzz_numbers</th>\n",
       "      <th>target</th>\n",
       "    </tr>\n",
       "  </thead>\n",
       "  <tbody>\n",
       "    <tr>\n",
       "      <th>0</th>\n",
       "      <td>1</td>\n",
       "      <td>1</td>\n",
       "      <td>0</td>\n",
       "    </tr>\n",
       "    <tr>\n",
       "      <th>1</th>\n",
       "      <td>2</td>\n",
       "      <td>2</td>\n",
       "      <td>0</td>\n",
       "    </tr>\n",
       "    <tr>\n",
       "      <th>2</th>\n",
       "      <td>3</td>\n",
       "      <td>Fizz</td>\n",
       "      <td>1</td>\n",
       "    </tr>\n",
       "    <tr>\n",
       "      <th>3</th>\n",
       "      <td>4</td>\n",
       "      <td>4</td>\n",
       "      <td>0</td>\n",
       "    </tr>\n",
       "    <tr>\n",
       "      <th>4</th>\n",
       "      <td>5</td>\n",
       "      <td>Buzz</td>\n",
       "      <td>2</td>\n",
       "    </tr>\n",
       "    <tr>\n",
       "      <th>5</th>\n",
       "      <td>6</td>\n",
       "      <td>Fizz</td>\n",
       "      <td>1</td>\n",
       "    </tr>\n",
       "    <tr>\n",
       "      <th>6</th>\n",
       "      <td>7</td>\n",
       "      <td>7</td>\n",
       "      <td>0</td>\n",
       "    </tr>\n",
       "    <tr>\n",
       "      <th>7</th>\n",
       "      <td>8</td>\n",
       "      <td>8</td>\n",
       "      <td>0</td>\n",
       "    </tr>\n",
       "    <tr>\n",
       "      <th>8</th>\n",
       "      <td>9</td>\n",
       "      <td>Fizz</td>\n",
       "      <td>1</td>\n",
       "    </tr>\n",
       "    <tr>\n",
       "      <th>9</th>\n",
       "      <td>10</td>\n",
       "      <td>Buzz</td>\n",
       "      <td>2</td>\n",
       "    </tr>\n",
       "  </tbody>\n",
       "</table>\n",
       "</div>"
      ],
      "text/plain": [
       "   numbers fizzbuzz_numbers  target\n",
       "0        1                1       0\n",
       "1        2                2       0\n",
       "2        3             Fizz       1\n",
       "3        4                4       0\n",
       "4        5             Buzz       2\n",
       "5        6             Fizz       1\n",
       "6        7                7       0\n",
       "7        8                8       0\n",
       "8        9             Fizz       1\n",
       "9       10             Buzz       2"
      ]
     },
     "execution_count": 20,
     "metadata": {},
     "output_type": "execute_result"
    }
   ],
   "source": [
    "df.head(10)"
   ]
  },
  {
   "cell_type": "markdown",
   "metadata": {},
   "source": [
    "Our target isn't the only thing that will need some work. The input matters, too!\n",
    "\n",
    "Keep in mind, neural networks fundamentally use hidden layers to understand the structure and connections within the input given. Currently, our input is a raw number, which lacks any real structure or connections!\n",
    "\n",
    "So, let's help our neural network out by giving it more \"surface area\" to work with and __break our input numbers down into a consistent binary form. This will allow the neural network to better grasp the mathematical relationships within the input number.__"
   ]
  },
  {
   "cell_type": "code",
   "execution_count": 21,
   "metadata": {},
   "outputs": [],
   "source": [
    "def binary_encode(i, num_digits):\n",
    "    '''Returns an binary array of the given number of size `num_digits`'''\n",
    "    return np.array([i >> d & 1 for d in range(num_digits - 1,-1,-1)])"
   ]
  },
  {
   "cell_type": "code",
   "execution_count": 22,
   "metadata": {},
   "outputs": [
    {
     "data": {
      "text/plain": [
       "array([0, 1, 0, 1, 0])"
      ]
     },
     "execution_count": 22,
     "metadata": {},
     "output_type": "execute_result"
    }
   ],
   "source": [
    "# example, let's create the binary representation of the number 10 using 5 elements\n",
    "binary_encode(10, 5)"
   ]
  },
  {
   "cell_type": "markdown",
   "metadata": {},
   "source": [
    "$$\n",
    "\\text{01010}\n",
    "$$\n",
    "$$\n",
    "= (0\\times2^4)+(1\\times2^3)+(0\\times2^2)+(1\\times2^1)+(0\\times2^0)\n",
    "$$\n",
    "$$= 0 + 8 + 0 + 2 + 0 = 10$$\n",
    "\n",
    "[_Learn more about binary representations here_](https://en.wikipedia.org/wiki/Binary_number)"
   ]
  },
  {
   "cell_type": "code",
   "execution_count": 24,
   "metadata": {},
   "outputs": [
    {
     "data": {
      "text/plain": [
       "array([0, 1, 1, 1, 1, 0, 1, 0, 0, 0, 0, 1, 0, 0, 1, 0, 0, 0, 0, 0, 0])"
      ]
     },
     "execution_count": 24,
     "metadata": {},
     "output_type": "execute_result"
    }
   ],
   "source": [
    "# Since our upper limit is 1,000,000...\n",
    "binary_encode(1_000_000, 21)"
   ]
  },
  {
   "cell_type": "markdown",
   "metadata": {},
   "source": [
    "...we'll need to use at most 20 elements!\n",
    "\n",
    "So, to recap: __our neural network with take in a binary representation of a number (ex, [...0,1,0,1,0], which represents 10), and return the categorical representation (ex. 2, which represents \"Buzz\")__"
   ]
  },
  {
   "cell_type": "markdown",
   "metadata": {},
   "source": [
    "## Model Preparation"
   ]
  },
  {
   "cell_type": "code",
   "execution_count": 26,
   "metadata": {},
   "outputs": [],
   "source": [
    "num_of_binary_digits = 20 # captures 1 million\n",
    "\n",
    "# full input (X) and full target (y)\n",
    "X = np.array([binary_encode(num, num_of_binary_digits) for num in df[\"numbers\"]])\n",
    "y = to_categorical(df[\"target\"]) # needed for keras implementation"
   ]
  },
  {
   "cell_type": "code",
   "execution_count": 27,
   "metadata": {},
   "outputs": [
    {
     "data": {
      "text/plain": [
       "array([[1., 0., 0., 0.],\n",
       "       [1., 0., 0., 0.],\n",
       "       [0., 1., 0., 0.],\n",
       "       [1., 0., 0., 0.],\n",
       "       [0., 0., 1., 0.],\n",
       "       [0., 1., 0., 0.],\n",
       "       [1., 0., 0., 0.],\n",
       "       [1., 0., 0., 0.],\n",
       "       [0., 1., 0., 0.],\n",
       "       [0., 0., 1., 0.],\n",
       "       [1., 0., 0., 0.],\n",
       "       [0., 1., 0., 0.],\n",
       "       [1., 0., 0., 0.],\n",
       "       [1., 0., 0., 0.],\n",
       "       [0., 0., 0., 1.]], dtype=float32)"
      ]
     },
     "execution_count": 27,
     "metadata": {},
     "output_type": "execute_result"
    }
   ],
   "source": [
    "# What does the target look like now?\n",
    "y[:15]"
   ]
  },
  {
   "cell_type": "code",
   "execution_count": 28,
   "metadata": {},
   "outputs": [
    {
     "data": {
      "text/plain": [
       "array([0, 0, 1, 0, 2, 1, 0, 0, 1, 2, 0, 1, 0, 0, 3], dtype=int64)"
      ]
     },
     "execution_count": 28,
     "metadata": {},
     "output_type": "execute_result"
    }
   ],
   "source": [
    "# index coincides with categorical target, so we can take the \"argmax\" to work backwards\n",
    "df[\"target\"][:15].values"
   ]
  },
  {
   "cell_type": "markdown",
   "metadata": {},
   "source": [
    "We'll want to split up our data into a training and testing set.\n",
    "\n",
    "Let's use the first 100 digits for testing and train on the rest of the data."
   ]
  },
  {
   "cell_type": "code",
   "execution_count": 45,
   "metadata": {},
   "outputs": [],
   "source": [
    "# Creating train/test split\n",
    "X_train = X[100:] \n",
    "X_test = X[:100]\n",
    "y_train = y[100:]\n",
    "y_test = y[:100]"
   ]
  },
  {
   "cell_type": "code",
   "execution_count": 46,
   "metadata": {},
   "outputs": [
    {
     "data": {
      "text/plain": [
       "array([[0, 0, 0, 0, 0, 0, 0, 0, 0, 0, 0, 0, 0, 1, 1, 0, 0, 1, 0, 1],\n",
       "       [0, 0, 0, 0, 0, 0, 0, 0, 0, 0, 0, 0, 0, 1, 1, 0, 0, 1, 1, 0],\n",
       "       [0, 0, 0, 0, 0, 0, 0, 0, 0, 0, 0, 0, 0, 1, 1, 0, 0, 1, 1, 1],\n",
       "       [0, 0, 0, 0, 0, 0, 0, 0, 0, 0, 0, 0, 0, 1, 1, 0, 1, 0, 0, 0],\n",
       "       [0, 0, 0, 0, 0, 0, 0, 0, 0, 0, 0, 0, 0, 1, 1, 0, 1, 0, 0, 1],\n",
       "       [0, 0, 0, 0, 0, 0, 0, 0, 0, 0, 0, 0, 0, 1, 1, 0, 1, 0, 1, 0],\n",
       "       [0, 0, 0, 0, 0, 0, 0, 0, 0, 0, 0, 0, 0, 1, 1, 0, 1, 0, 1, 1],\n",
       "       [0, 0, 0, 0, 0, 0, 0, 0, 0, 0, 0, 0, 0, 1, 1, 0, 1, 1, 0, 0],\n",
       "       [0, 0, 0, 0, 0, 0, 0, 0, 0, 0, 0, 0, 0, 1, 1, 0, 1, 1, 0, 1],\n",
       "       [0, 0, 0, 0, 0, 0, 0, 0, 0, 0, 0, 0, 0, 1, 1, 0, 1, 1, 1, 0]])"
      ]
     },
     "execution_count": 46,
     "metadata": {},
     "output_type": "execute_result"
    }
   ],
   "source": [
    "# Check out training input (X_train)\n",
    "X_train[:10]"
   ]
  },
  {
   "cell_type": "code",
   "execution_count": 48,
   "metadata": {},
   "outputs": [
    {
     "data": {
      "text/plain": [
       "array([[1., 0., 0., 0.],\n",
       "       [0., 1., 0., 0.],\n",
       "       [1., 0., 0., 0.],\n",
       "       [1., 0., 0., 0.],\n",
       "       [0., 0., 0., 1.],\n",
       "       [1., 0., 0., 0.],\n",
       "       [1., 0., 0., 0.],\n",
       "       [0., 1., 0., 0.],\n",
       "       [1., 0., 0., 0.],\n",
       "       [0., 0., 1., 0.]], dtype=float32)"
      ]
     },
     "execution_count": 48,
     "metadata": {},
     "output_type": "execute_result"
    }
   ],
   "source": [
    "# Check out training target (y_train)\n",
    "y_train[:10]"
   ]
  },
  {
   "cell_type": "markdown",
   "metadata": {},
   "source": [
    "## Modeling\n",
    "Let's build a very simple model:\n",
    "- Input layer has shape of 20 (`num_of_binary_digits`) nodes\n",
    "- 1st hidden layer connects the previous 20 nodes to 128 nodes w/relu activation\n",
    "- 2nd hidden layer connects the previous 128 nodes to 64 nodes w/relu activation\n",
    "- The output layer connects the previous 64 nodes to 4 output nodes (must be 4, which each represent one of the 4 possible categories) with softmax activation (to make it categorical)"
   ]
  },
  {
   "cell_type": "code",
   "execution_count": 63,
   "metadata": {},
   "outputs": [],
   "source": [
    "model = Sequential([\n",
    "    Dense(128, input_shape = (num_of_binary_digits,), activation='relu'),\n",
    "    Dense(64, activation='relu'),\n",
    "    Dense(4, activation = \"softmax\")\n",
    "])"
   ]
  },
  {
   "cell_type": "markdown",
   "metadata": {},
   "source": [
    "We'll use categotical crossentropy for loss and optimize using Adam"
   ]
  },
  {
   "cell_type": "code",
   "execution_count": 64,
   "metadata": {},
   "outputs": [],
   "source": [
    "model.compile(loss = 'categorical_crossentropy', optimizer = \"adam\", metrics = ['accuracy'])"
   ]
  },
  {
   "cell_type": "markdown",
   "metadata": {},
   "source": [
    "Let's also no drag on the process too long by stopping early once we don't see much change."
   ]
  },
  {
   "cell_type": "code",
   "execution_count": 65,
   "metadata": {},
   "outputs": [],
   "source": [
    "callback = EarlyStopping(monitor = 'loss', patience = 3)"
   ]
  },
  {
   "cell_type": "markdown",
   "metadata": {},
   "source": [
    "Now, let's train the model using our training data and validate using our testing data."
   ]
  },
  {
   "cell_type": "code",
   "execution_count": 66,
   "metadata": {},
   "outputs": [
    {
     "name": "stdout",
     "output_type": "stream",
     "text": [
      "Epoch 1/20\n",
      "7812/7812 [==============================] - 15s 2ms/step - loss: 1.1091 - accuracy: 0.5459 - val_loss: 0.5434 - val_accuracy: 0.8700\n",
      "Epoch 2/20\n",
      "7812/7812 [==============================] - 15s 2ms/step - loss: 0.4188 - accuracy: 0.8462 - val_loss: 0.0274 - val_accuracy: 1.0000\n",
      "Epoch 3/20\n",
      "7812/7812 [==============================] - 15s 2ms/step - loss: 0.1129 - accuracy: 0.9651 - val_loss: 0.0051 - val_accuracy: 1.0000\n",
      "Epoch 4/20\n",
      "7812/7812 [==============================] - 16s 2ms/step - loss: 0.0698 - accuracy: 0.9742 - val_loss: 0.0039 - val_accuracy: 1.0000\n",
      "Epoch 5/20\n",
      "7812/7812 [==============================] - 15s 2ms/step - loss: 0.0523 - accuracy: 0.9797 - val_loss: 0.0023 - val_accuracy: 1.0000\n",
      "Epoch 6/20\n",
      "7812/7812 [==============================] - 16s 2ms/step - loss: 0.0381 - accuracy: 0.9858 - val_loss: 4.4817e-04 - val_accuracy: 1.0000\n",
      "Epoch 7/20\n",
      "7812/7812 [==============================] - 24s 3ms/step - loss: 0.0288 - accuracy: 0.9903 - val_loss: 7.5910e-04 - val_accuracy: 1.0000\n",
      "Epoch 8/20\n",
      "7812/7812 [==============================] - 20s 3ms/step - loss: 0.0246 - accuracy: 0.9919 - val_loss: 4.1234e-04 - val_accuracy: 1.0000\n",
      "Epoch 9/20\n",
      "7812/7812 [==============================] - 17s 2ms/step - loss: 0.0214 - accuracy: 0.9929 - val_loss: 1.1246e-04 - val_accuracy: 1.0000\n",
      "Epoch 10/20\n",
      "7812/7812 [==============================] - 22s 3ms/step - loss: 0.0203 - accuracy: 0.9932 - val_loss: 2.8534e-04 - val_accuracy: 1.0000\n",
      "Epoch 11/20\n",
      "7812/7812 [==============================] - 18s 2ms/step - loss: 0.0194 - accuracy: 0.9935 - val_loss: 8.7922e-05 - val_accuracy: 1.0000\n",
      "Epoch 12/20\n",
      "7812/7812 [==============================] - 18s 2ms/step - loss: 0.0182 - accuracy: 0.9939 - val_loss: 9.4601e-05 - val_accuracy: 1.0000\n",
      "Epoch 13/20\n",
      "7812/7812 [==============================] - 22s 3ms/step - loss: 0.0179 - accuracy: 0.9939 - val_loss: 3.9842e-05 - val_accuracy: 1.0000\n",
      "Epoch 14/20\n",
      "7812/7812 [==============================] - 18s 2ms/step - loss: 0.0169 - accuracy: 0.9942 - val_loss: 3.1404e-05 - val_accuracy: 1.0000\n",
      "Epoch 15/20\n",
      "7812/7812 [==============================] - 22s 3ms/step - loss: 0.0168 - accuracy: 0.9943 - val_loss: 1.7593e-05 - val_accuracy: 1.0000\n",
      "Epoch 16/20\n",
      "7812/7812 [==============================] - 18s 2ms/step - loss: 0.0162 - accuracy: 0.9946 - val_loss: 2.5883e-04 - val_accuracy: 1.0000\n",
      "Epoch 17/20\n",
      "7812/7812 [==============================] - 17s 2ms/step - loss: 0.0158 - accuracy: 0.9946 - val_loss: 1.0943e-05 - val_accuracy: 1.0000\n",
      "Epoch 18/20\n",
      "7812/7812 [==============================] - 21s 3ms/step - loss: 0.0160 - accuracy: 0.9946 - val_loss: 8.5169e-04 - val_accuracy: 1.0000\n",
      "Epoch 19/20\n",
      "7812/7812 [==============================] - 15s 2ms/step - loss: 0.0145 - accuracy: 0.9951 - val_loss: 8.9362e-05 - val_accuracy: 1.0000\n",
      "Epoch 20/20\n",
      "7812/7812 [==============================] - 17s 2ms/step - loss: 0.0131 - accuracy: 0.9958 - val_loss: 2.0018e-05 - val_accuracy: 1.0000\n"
     ]
    }
   ],
   "source": [
    "history = model.fit(\n",
    "    X_train, \n",
    "    y_train, \n",
    "    validation_data = (X_test, y_test), \n",
    "    epochs=20,\n",
    "    batch_size = 128, \n",
    "    callbacks=[callback]\n",
    ")"
   ]
  },
  {
   "cell_type": "code",
   "execution_count": 67,
   "metadata": {},
   "outputs": [
    {
     "data": {
      "image/png": "[encoded data removed]",
      "text/plain": [
       "<Figure size 432x288 with 1 Axes>"
      ]
     },
     "metadata": {
      "needs_background": "light"
     },
     "output_type": "display_data"
    }
   ],
   "source": [
    "plt.title(\"Training and Validation Loss by epoch\")\n",
    "plt.plot(history.history['loss'], label='Train loss')\n",
    "plt.plot(history.history['val_loss'], label='Val Loss')\n",
    "plt.xlabel(\"Epoch\")\n",
    "plt.ylabel(\"Loss\")\n",
    "plt.legend();"
   ]
  },
  {
   "cell_type": "code",
   "execution_count": 69,
   "metadata": {},
   "outputs": [
    {
     "data": {
      "image/png": "[encoded data removed]",
      "text/plain": [
       "<Figure size 432x288 with 1 Axes>"
      ]
     },
     "metadata": {
      "needs_background": "light"
     },
     "output_type": "display_data"
    }
   ],
   "source": [
    "plt.title(\"Training and Validation Accuracy by epoch\")\n",
    "plt.plot(history.history['accuracy'], label='Train accuracy')\n",
    "plt.plot(history.history['val_accuracy'], label='Val accuracy')\n",
    "plt.xlabel(\"Epoch\")\n",
    "plt.ylabel(\"Accuracy\")\n",
    "plt.legend();"
   ]
  },
  {
   "cell_type": "markdown",
   "metadata": {},
   "source": [
    "## Model Evaluation\n",
    "Let's check out how our good our model is at predicting the correct answer for our test set (the numbers 1 - 100)."
   ]
  },
  {
   "cell_type": "code",
   "execution_count": 70,
   "metadata": {},
   "outputs": [
    {
     "data": {
      "text/plain": [
       "array([[1.0000000e+00, 4.5998977e-10, 9.0219013e-12, 8.1531628e-26],\n",
       "       [1.0000000e+00, 2.4571192e-17, 3.1160635e-14, 4.9226543e-25],\n",
       "       [8.7771831e-11, 1.0000000e+00, 3.9528674e-26, 7.3529226e-23],\n",
       "       [1.0000000e+00, 1.0945666e-08, 2.8178227e-16, 9.5136563e-21],\n",
       "       [9.9090035e-11, 4.0342241e-14, 1.0000000e+00, 1.6194349e-10],\n",
       "       [1.2035140e-11, 1.0000000e+00, 2.8817308e-16, 1.6451986e-09],\n",
       "       [1.0000000e+00, 2.1478204e-08, 1.1341265e-10, 1.9617491e-21],\n",
       "       [1.0000000e+00, 7.7065297e-16, 3.8581594e-28, 0.0000000e+00],\n",
       "       [3.1918607e-11, 9.9999940e-01, 5.1127994e-16, 5.7582514e-07],\n",
       "       [2.0357496e-13, 1.9789368e-23, 1.0000000e+00, 1.3164477e-22]],\n",
       "      dtype=float32)"
      ]
     },
     "execution_count": 70,
     "metadata": {},
     "output_type": "execute_result"
    }
   ],
   "source": [
    "preds = model.predict(X_test)\n",
    "preds[:10]"
   ]
  },
  {
   "cell_type": "markdown",
   "metadata": {},
   "source": [
    "This looks so messy! But remember, this output is set up so that the max argument coincides with the __category index__"
   ]
  },
  {
   "cell_type": "code",
   "execution_count": 71,
   "metadata": {},
   "outputs": [
    {
     "data": {
      "text/plain": [
       "array([0, 0, 1, 0, 2, 1, 0, 0, 1, 2], dtype=int64)"
      ]
     },
     "execution_count": 71,
     "metadata": {},
     "output_type": "execute_result"
    }
   ],
   "source": [
    "argmax_preds = np.argmax(preds, axis = 1)\n",
    "argmax_preds[:10]"
   ]
  },
  {
   "cell_type": "code",
   "execution_count": 72,
   "metadata": {},
   "outputs": [
    {
     "data": {
      "text/plain": [
       "array([0, 0, 1, 0, 2, 1, 0, 0, 1, 2], dtype=int64)"
      ]
     },
     "execution_count": 72,
     "metadata": {},
     "output_type": "execute_result"
    }
   ],
   "source": [
    "# the true values\n",
    "df[\"target\"].values[:10]"
   ]
  },
  {
   "cell_type": "code",
   "execution_count": 73,
   "metadata": {},
   "outputs": [
    {
     "data": {
      "text/plain": [
       "1.0"
      ]
     },
     "execution_count": 73,
     "metadata": {},
     "output_type": "execute_result"
    }
   ],
   "source": [
    "# how well did the model do?\n",
    "accuracy_score(df[\"target\"].values[:100], argmax_preds)"
   ]
  },
  {
   "cell_type": "markdown",
   "metadata": {},
   "source": [
    "Let's make sure to convert our output back to the expected values"
   ]
  },
  {
   "cell_type": "code",
   "execution_count": 74,
   "metadata": {},
   "outputs": [],
   "source": [
    "def convert_prediction(input_val, prediction):\n",
    "    return [input_val, \"Fizz\", \"Buzz\", \"FizzBuzz\"][prediction]"
   ]
  },
  {
   "cell_type": "code",
   "execution_count": 75,
   "metadata": {},
   "outputs": [
    {
     "data": {
      "text/plain": [
       "[1,\n",
       " 2,\n",
       " 'Fizz',\n",
       " 4,\n",
       " 'Buzz',\n",
       " 'Fizz',\n",
       " 7,\n",
       " 8,\n",
       " 'Fizz',\n",
       " 'Buzz',\n",
       " 11,\n",
       " 'Fizz',\n",
       " 13,\n",
       " 14,\n",
       " 'FizzBuzz',\n",
       " 16,\n",
       " 17,\n",
       " 'Fizz',\n",
       " 19,\n",
       " 'Buzz',\n",
       " 'Fizz',\n",
       " 22,\n",
       " 23,\n",
       " 'Fizz',\n",
       " 'Buzz',\n",
       " 26,\n",
       " 'Fizz',\n",
       " 28,\n",
       " 29,\n",
       " 'FizzBuzz',\n",
       " 31,\n",
       " 32,\n",
       " 'Fizz',\n",
       " 34,\n",
       " 'Buzz',\n",
       " 'Fizz',\n",
       " 37,\n",
       " 38,\n",
       " 'Fizz',\n",
       " 'Buzz',\n",
       " 41,\n",
       " 'Fizz',\n",
       " 43,\n",
       " 44,\n",
       " 'FizzBuzz',\n",
       " 46,\n",
       " 47,\n",
       " 'Fizz',\n",
       " 49,\n",
       " 'Buzz',\n",
       " 'Fizz',\n",
       " 52,\n",
       " 53,\n",
       " 'Fizz',\n",
       " 'Buzz',\n",
       " 56,\n",
       " 'Fizz',\n",
       " 58,\n",
       " 59,\n",
       " 'FizzBuzz',\n",
       " 61,\n",
       " 62,\n",
       " 'Fizz',\n",
       " 64,\n",
       " 'Buzz',\n",
       " 'Fizz',\n",
       " 67,\n",
       " 68,\n",
       " 'Fizz',\n",
       " 'Buzz',\n",
       " 71,\n",
       " 'Fizz',\n",
       " 73,\n",
       " 74,\n",
       " 'FizzBuzz',\n",
       " 76,\n",
       " 77,\n",
       " 'Fizz',\n",
       " 79,\n",
       " 'Buzz',\n",
       " 'Fizz',\n",
       " 82,\n",
       " 83,\n",
       " 'Fizz',\n",
       " 'Buzz',\n",
       " 86,\n",
       " 'Fizz',\n",
       " 88,\n",
       " 89,\n",
       " 'FizzBuzz',\n",
       " 91,\n",
       " 92,\n",
       " 'Fizz',\n",
       " 94,\n",
       " 'Buzz',\n",
       " 'Fizz',\n",
       " 97,\n",
       " 98,\n",
       " 'Fizz',\n",
       " 'Buzz']"
      ]
     },
     "execution_count": 75,
     "metadata": {},
     "output_type": "execute_result"
    }
   ],
   "source": [
    "final = [convert_prediction(num, pred) for num, pred in zip(df[\"numbers\"][:101], argmax_preds)]\n",
    "final"
   ]
  }
 ],
 "metadata": {
  "kernelspec": {
   "display_name": "Python 3",
   "language": "python",
   "name": "python3"
  },
  "language_info": {
   "codemirror_mode": {
    "name": "ipython",
    "version": 3
   },
   "file_extension": ".py",
   "mimetype": "text/x-python",
   "name": "python",
   "nbconvert_exporter": "python",
   "pygments_lexer": "ipython3",
   "version": "3.7.6"
  }
 },
 "nbformat": 4,
 "nbformat_minor": 4
}
